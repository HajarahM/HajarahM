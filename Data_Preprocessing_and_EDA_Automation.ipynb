{
  "nbformat": 4,
  "nbformat_minor": 0,
  "metadata": {
    "colab": {
      "provenance": [],
      "authorship_tag": "ABX9TyMDjTNz2C/xPERcPXl1OBBu",
      "include_colab_link": true
    },
    "kernelspec": {
      "name": "python3",
      "display_name": "Python 3"
    },
    "language_info": {
      "name": "python"
    }
  },
  "cells": [
    {
      "cell_type": "markdown",
      "metadata": {
        "id": "view-in-github",
        "colab_type": "text"
      },
      "source": [
        "<a href=\"https://colab.research.google.com/github/HajarahM/HajarahM/blob/main/Data_Preprocessing_and_EDA_Automation.ipynb\" target=\"_parent\"><img src=\"https://colab.research.google.com/assets/colab-badge.svg\" alt=\"Open In Colab\"/></a>"
      ]
    },
    {
      "cell_type": "markdown",
      "source": [
        "# **Step 1: Auto Clean**"
      ],
      "metadata": {
        "id": "2YsiA-Qi0j7K"
      }
    },
    {
      "cell_type": "markdown",
      "source": [
        "AutoClean to automate data preprocessing & cleaning"
      ],
      "metadata": {
        "id": "MgQDcRhbkq2p"
      }
    },
    {
      "cell_type": "code",
      "execution_count": null,
      "metadata": {
        "id": "DjtgAq-9zNq3"
      },
      "outputs": [],
      "source": [
        "pip install py-AutoClean"
      ]
    },
    {
      "cell_type": "markdown",
      "source": [
        "Run Dataset through the default AutoClean pipeline"
      ],
      "metadata": {
        "id": "x0BzP_AvkpWn"
      }
    },
    {
      "cell_type": "code",
      "source": [
        "from AutoClean import AutoClean\n",
        "clean_dataset = AutoClean(dataset)"
      ],
      "metadata": {
        "id": "25ZkzZ_nkgSw"
      },
      "execution_count": null,
      "outputs": []
    },
    {
      "cell_type": "markdown",
      "source": [
        "View Output"
      ],
      "metadata": {
        "id": "KtqkmBnP1QeW"
      }
    },
    {
      "cell_type": "code",
      "source": [
        "clean_dataset.output"
      ],
      "metadata": {
        "id": "x7xsj2rElDgJ"
      },
      "execution_count": null,
      "outputs": []
    },
    {
      "cell_type": "markdown",
      "source": [
        "# **Step 2: Create Reports**"
      ],
      "metadata": {
        "id": "ulxxW2Is1Wyn"
      }
    },
    {
      "cell_type": "markdown",
      "source": [
        "## **Option 1: Using DataPrep**"
      ],
      "metadata": {
        "id": "Xso7Sg622uJP"
      }
    },
    {
      "cell_type": "markdown",
      "source": [
        "DataPrep provides much more functionality than simple EDA. It can helps to ingest more data sources and can help to get through large data sets faster."
      ],
      "metadata": {
        "id": "1beJv3iMYbX1"
      }
    },
    {
      "cell_type": "markdown",
      "source": [
        "Install DataPrep"
      ],
      "metadata": {
        "id": "fOtFNDvg2TaG"
      }
    },
    {
      "cell_type": "code",
      "source": [
        "pip install dataprep"
      ],
      "metadata": {
        "id": "9hOPzl7x2U79"
      },
      "execution_count": null,
      "outputs": []
    },
    {
      "cell_type": "markdown",
      "source": [
        "The connector enables a simple data collection from web APIs by providing a standard set of operations.\n",
        "The EDA component handles the exploratory data analysis, and clean API provides functions for efficiently cleaning and validating data."
      ],
      "metadata": {
        "id": "bH5Yy8sA1pco"
      }
    },
    {
      "cell_type": "code",
      "source": [
        "import pandas as pd\n",
        "from dataprep.eda import create_report\n",
        "\n",
        "df = pd.read_csv(clean_dataset)\n",
        "create_report(df)"
      ],
      "metadata": {
        "id": "I9J2utNm1o7G"
      },
      "execution_count": null,
      "outputs": []
    },
    {
      "cell_type": "markdown",
      "source": [
        "You’ll get back an extensive and interactive report for variables and correlations as well as interactions and missing values."
      ],
      "metadata": {
        "id": "4454c_zE2NWF"
      }
    },
    {
      "cell_type": "markdown",
      "source": [],
      "metadata": {
        "id": "_Pt790ts2psP"
      }
    },
    {
      "cell_type": "markdown",
      "source": [
        "## **Option 2: Using Pandas Profiling**"
      ],
      "metadata": {
        "id": "ftjf5HOI24dl"
      }
    },
    {
      "cell_type": "markdown",
      "source": [
        "Install Pip Pandas Profiling package"
      ],
      "metadata": {
        "id": "IYW3h9fAVaYi"
      }
    },
    {
      "cell_type": "code",
      "source": [
        "pip install pandas-profiling[notebook]"
      ],
      "metadata": {
        "id": "9n__ZuxPVhOu"
      },
      "execution_count": null,
      "outputs": []
    },
    {
      "cell_type": "markdown",
      "source": [
        "Using Profile Report to generate EDA report"
      ],
      "metadata": {
        "id": "0PuCuRms29pG"
      }
    },
    {
      "cell_type": "code",
      "source": [
        "import pandas as pd\n",
        "from pandas_profiling import ProfileReport\n",
        "\n",
        "df = pd.read_csv(clean_dataset)\n",
        "profile = ProfileReport(df, title=\"Report\")\n",
        "profile"
      ],
      "metadata": {
        "id": "MPpNCUhcVCFS"
      },
      "execution_count": null,
      "outputs": []
    },
    {
      "cell_type": "markdown",
      "source": [
        "## **Option 3: Using SweetViz**"
      ],
      "metadata": {
        "id": "qfw3tI42WG7P"
      }
    },
    {
      "cell_type": "markdown",
      "source": [
        "SweetViz offers an in-depth EDA (target analysis, comparison, feature analysis, correlation) and interactive EDA\n",
        "In addition, SweetViz allows you to compare two data sets, such as training and test data sets for your machine learning projects."
      ],
      "metadata": {
        "id": "AGk5WqCZWZRg"
      }
    },
    {
      "cell_type": "code",
      "source": [
        "pip install sweetviz"
      ],
      "metadata": {
        "id": "_T7rMM1oWq0G"
      },
      "execution_count": null,
      "outputs": []
    },
    {
      "cell_type": "code",
      "source": [
        "import sweetviz as sv\n",
        "\n",
        "df = pd.read_csv(clean_dataset)\n",
        "analyze_report = sv.analyze(df)\n",
        "analyze_report.show_html(report.html', open_browser=False)"
      ],
      "metadata": {
        "id": "G3BN_86cWO8Q"
      },
      "execution_count": null,
      "outputs": []
    },
    {
      "cell_type": "markdown",
      "source": [
        "## **Option 4: AutoViz**"
      ],
      "metadata": {
        "id": "v1VKL8baW3Xl"
      }
    },
    {
      "cell_type": "markdown",
      "source": [
        "With AutoViz, we can automatically visualize any size data set with a single line of code in much more detail.\n",
        "Note that we don’t need Pandas to read the data. AutoViz will load it when you provide the path to the data set irrespective of format"
      ],
      "metadata": {
        "id": "fw9zutkDW8wX"
      }
    },
    {
      "cell_type": "code",
      "source": [
        "pip install autoviz"
      ],
      "metadata": {
        "id": "sHjgzUYxXGil"
      },
      "execution_count": null,
      "outputs": []
    },
    {
      "cell_type": "code",
      "source": [
        "from autoviz.AutoViz_Class import AutoViz_Class\n",
        "\n",
        "AV = AutoViz_Class()\n",
        "df_av = AV.AutoViz(clean_dataset)"
      ],
      "metadata": {
        "id": "gJ3F2Dd6XKGF"
      },
      "execution_count": null,
      "outputs": []
    }
  ]
}